{
 "cells": [
  {
   "cell_type": "markdown",
   "id": "68f21a71",
   "metadata": {},
   "source": [
    "## Input Data"
   ]
  },
  {
   "cell_type": "markdown",
   "id": "090a5720",
   "metadata": {},
   "source": [
    "The data for this notebook is from the following sources:\n",
    "\n",
    "* Nipponbarre reference genome (MSU7): http://rice.uga.edu/\n",
    "* 12 near-gap-free reference genome sequences https://www.nature.com/articles/s41597-020-0438-2\n",
    "\n",
    "The detail to obtain the code from NCBI can be found in the Supplementary Data of the article. "
   ]
  },
  {
   "cell_type": "markdown",
   "id": "8fc2d2eb",
   "metadata": {},
   "source": [
    "## Change FASTA description line (optional)"
   ]
  },
  {
   "cell_type": "markdown",
   "id": "f4776851",
   "metadata": {},
   "source": [
    "For easier interpretation, the description line of each FASTA file was changed with the \"sed\" script provided [here](https://link). Here is the example of a FASTA description line:"
   ]
  },
  {
   "cell_type": "code",
   "execution_count": null,
   "id": "6e580f71",
   "metadata": {},
   "outputs": [],
   "source": [
    ">AzucenaRS1_Chr1\n",
    ">AzucenaRS1_Chr2\n",
    ">AzucenaRS1_Chr3\n",
    ">AzucenaRS1_Chr4\n",
    ">AzucenaRS1_Chr5\n",
    ">AzucenaRS1_Chr6\n",
    ">AzucenaRS1_Chr7\n",
    ">AzucenaRS1_Chr8\n",
    ">AzucenaRS1_Chr9\n",
    ">AzucenaRS1_Chr10\n",
    ">AzucenaRS1_Chr11\n",
    ">AzucenaRS1_Chr12"
   ]
  },
  {
   "cell_type": "markdown",
   "id": "abfe46ab",
   "metadata": {},
   "source": [
    "## Calculate genetic distance by mash"
   ]
  },
  {
   "cell_type": "markdown",
   "id": "1defad4d",
   "metadata": {},
   "source": [
    "[mash](https://github.com/marbl/Mash) (Fast genome and metagenome distance estimation using MinHash) was used to calculate genome distance among 13 input genomes. In the same folder containing all the FASTA file, run the following command to sketch each genome first, which saves time later for distance estimation."
   ]
  },
  {
   "cell_type": "code",
   "execution_count": null,
   "id": "2e21f368",
   "metadata": {},
   "outputs": [],
   "source": [
    "for i in *.fa;    \n",
    "    do mash sketch $i; \n",
    "done"
   ]
  },
  {
   "cell_type": "markdown",
   "id": "449b2a1e",
   "metadata": {},
   "source": [
    "Then, the distance of each genome to the reference Nipponbare will be estimated from the sketch:"
   ]
  },
  {
   "cell_type": "code",
   "execution_count": null,
   "id": "fd2f1964",
   "metadata": {},
   "outputs": [],
   "source": [
    "for i in *.msh; \n",
    "    do ~/Tools/mash dist IRGSP-1.0.fa.msh $i; \n",
    "done"
   ]
  },
  {
   "cell_type": "markdown",
   "id": "07de56a9",
   "metadata": {},
   "source": [
    "The result can be obtain in Supplementary Table 2. The graph construction order was determined based on the Mash-distance by ascending order. "
   ]
  },
  {
   "cell_type": "markdown",
   "id": "074c13e0",
   "metadata": {},
   "source": [
    "## Graph construction with minigraph"
   ]
  },
  {
   "cell_type": "markdown",
   "id": "4da163cb",
   "metadata": {},
   "source": [
    "Based on the order, the graph genome of Asian rice genomes were constructed with [minigraph v0.15 (r426)](https://github.com/lh3/minigraph/releases/tag/v0.15) by the following command:"
   ]
  },
  {
   "cell_type": "code",
   "execution_count": null,
   "id": "3fde14ab",
   "metadata": {},
   "outputs": [],
   "source": [
    "# Command at r426\n",
    "minigraph -xggs -t12 -o platGB2_r426.gfa IRGSP-1.0.fa Os132278RS1.fa AzucenaRS1.fa Os128077RS1.fa Os117425RS1.fa Os127742RS1.fa Os127518RS1.fa OsIR64RS1.fa Os125619RS1.fa Os132424RS1.fa Os127564RS1.fa Os127652RS1.fa Os125827RS1.fa"
   ]
  },
  {
   "cell_type": "markdown",
   "id": "4daf5999",
   "metadata": {},
   "source": [
    "Latest version of [minigraph v0.19 (r551)](https://github.com/lh3/minigraph/releases/tag/v0.19) has been released that containing major improvement of adding base aligment (-c option)."
   ]
  },
  {
   "cell_type": "code",
   "execution_count": null,
   "id": "5887cc89",
   "metadata": {},
   "outputs": [],
   "source": [
    "# Command at r551\n",
    "minigraph -cxggs -t12 -o platGB2_r551.gfa IRGSP-1.0.fa Os132278RS1.fa AzucenaRS1.fa Os128077RS1.fa Os117425RS1.fa Os127742RS1.fa Os127518RS1.fa OsIR64RS1.fa Os125619RS1.fa Os132424RS1.fa Os127564RS1.fa Os127652RS1.fa Os125827RS1.fa"
   ]
  },
  {
   "cell_type": "markdown",
   "id": "464f2412",
   "metadata": {},
   "source": [
    "For both versions, the option \"-t12\" indicates the number of threads used is 12 and can be modified. \n",
    "\n",
    "The output is a [rgfa](https://github.com/lh3/gfatools/blob/master/doc/rGFA.md) file containing the graph of 13 Asian rice genomes. "
   ]
  },
  {
   "cell_type": "markdown",
   "id": "8e0845be",
   "metadata": {},
   "source": [
    "## Basic information extraction from the output rgfa"
   ]
  },
  {
   "cell_type": "markdown",
   "id": "cb9b2d68",
   "metadata": {},
   "source": [
    "### Minigraph (r551)"
   ]
  },
  {
   "cell_type": "code",
   "execution_count": null,
   "id": "2e6792de",
   "metadata": {},
   "outputs": [],
   "source": [
    "# Calling structural variations\n",
    "gfatools bubble platGB2_r551.gfa > platGB2_r551.bed"
   ]
  },
  {
   "cell_type": "code",
   "execution_count": null,
   "id": "ed539fcf",
   "metadata": {},
   "outputs": [],
   "source": [
    "# Call per-sample path in each bubble/variation (-c not needed for this)\n",
    "./minigraph -xasm -l10k --call platGB2_r551.gfa test/MT-orangA.fa > orangA.call.bed"
   ]
  },
  {
   "cell_type": "markdown",
   "id": "0edaeefe",
   "metadata": {},
   "source": [
    "### gfatools"
   ]
  },
  {
   "cell_type": "code",
   "execution_count": null,
   "id": "d3fb0520",
   "metadata": {},
   "outputs": [],
   "source": [
    "# Print the statistics information from the graph\n",
    "gfatools stat platGB2_r551.gfa\n",
    "\n",
    "# Preapre a bed file documenting the vertex  coordinate with the coordination in each genome\n",
    "gfatools gfa2bed platGB2_r551.gfa > platGB2_r551.bed"
   ]
  },
  {
   "cell_type": "markdown",
   "id": "79852bf6",
   "metadata": {},
   "source": [
    "### BioGraph.jl"
   ]
  },
  {
   "cell_type": "markdown",
   "id": "e45f72ed",
   "metadata": {},
   "source": [
    "Please access the 2nd notebook for the instruction using BioGraph.jl in Julia kernel. Before working with BioGraph, it is neccesary to handle the graph with PARROT to obtain weighted file. "
   ]
  },
  {
   "cell_type": "markdown",
   "id": "224ff792",
   "metadata": {},
   "source": [
    "# Remapping individual genomes against the genome graph"
   ]
  },
  {
   "cell_type": "markdown",
   "id": "ff3567b0",
   "metadata": {},
   "source": [
    "This step can be perform by using minigraph. The parameter should be followed to assure the output file used vertex coordinate in the result:"
   ]
  },
  {
   "cell_type": "code",
   "execution_count": null,
   "id": "6fee99ad",
   "metadata": {},
   "outputs": [],
   "source": [
    "./minigraph --vc platGB2_r551.gfa IRGSP-1.0.fa > IRGSP-1.0.gaf"
   ]
  },
  {
   "cell_type": "markdown",
   "id": "e79d91e6",
   "metadata": {},
   "source": [
    "## Working with PARROT"
   ]
  },
  {
   "cell_type": "markdown",
   "id": "793b7143",
   "metadata": {},
   "source": [
    "PARROT was used to take the individual mapping result and the graph information to prepare the weight value used to extract the longest path. Cloning PARROT from the github gives the gafconvert features and can be run as instructed below:"
   ]
  },
  {
   "cell_type": "code",
   "execution_count": null,
   "id": "9f3d0424",
   "metadata": {},
   "outputs": [],
   "source": [
    "!python ~/path_to_gafconvert/gafconvert/ vcgaf --refbed platGB2_r551.bed --gaf *.gaf --output platGB2_matrix.bed"
   ]
  },
  {
   "cell_type": "markdown",
   "id": "ad92b173",
   "metadata": {},
   "source": [
    "Prepare presence/absence matrix used in visualization with panache:"
   ]
  },
  {
   "cell_type": "code",
   "execution_count": null,
   "id": "589dd3b4",
   "metadata": {},
   "outputs": [],
   "source": [
    "!python ~/path_to_gafconvert/gafconvert/ vcgaf --refbed platGB2_r551.bed --gaf *.gaf --panache --output platGB2_panache.pav"
   ]
  },
  {
   "cell_type": "markdown",
   "id": "68a4045e",
   "metadata": {},
   "source": [
    "Preapre weight value array for BioGraph.jl:"
   ]
  },
  {
   "cell_type": "code",
   "execution_count": null,
   "id": "44f6228d",
   "metadata": {},
   "outputs": [],
   "source": [
    "!python ~/devtools/gafconvert/gafconvert/ vcgaf --refbed platGB2_r426.bed --gaf *.gaf --biograph --output platGB2_biograph.txt"
   ]
  },
  {
   "cell_type": "markdown",
   "id": "68c48581",
   "metadata": {},
   "source": [
    "All the file used for extracting the longest path is now  ready."
   ]
  }
 ],
 "metadata": {
  "kernelspec": {
   "display_name": "Bash",
   "language": "bash",
   "name": "bash"
  },
  "language_info": {
   "codemirror_mode": "shell",
   "file_extension": ".sh",
   "mimetype": "text/x-sh",
   "name": "bash"
  }
 },
 "nbformat": 4,
 "nbformat_minor": 5
}
